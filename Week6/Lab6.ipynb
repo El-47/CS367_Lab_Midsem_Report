{
  "nbformat": 4,
  "nbformat_minor": 0,
  "metadata": {
    "colab": {
      "provenance": [],
      "authorship_tag": "ABX9TyPGEWgi66xIDZfe9WMOLKVx",
      "include_colab_link": true
    },
    "kernelspec": {
      "name": "python3",
      "display_name": "Python 3"
    },
    "language_info": {
      "name": "python"
    }
  },
  "cells": [
    {
      "cell_type": "markdown",
      "metadata": {
        "id": "view-in-github",
        "colab_type": "text"
      },
      "source": [
        "<a href=\"https://colab.research.google.com/github/El-47/CS367_Lab_Midsem_Report/blob/master/Week6/Lab6.ipynb\" target=\"_parent\"><img src=\"https://colab.research.google.com/assets/colab-badge.svg\" alt=\"Open In Colab\"/></a>"
      ]
    },
    {
      "cell_type": "markdown",
      "source": [
        "Q3) For the sample code supplied in the lab-work folder, find out the amount of error (in bits) tolerable for each of the stored patterns.\n",
        "\n",
        "**MATLAB CODE**"
      ],
      "metadata": {
        "id": "pCCfTxRWUJgK"
      }
    },
    {
      "cell_type": "code",
      "source": [
        "clear all;\n",
        "close all;\n",
        "\n",
        "%--------------------------------------------\n",
        "% Patterns to store\n",
        "% D, J, C, M\n",
        "%--------------------------------------------\n",
        "X = [1 1 1 1 -1 -1 1 -1 -1 1 -1 1 -1 -1 1 -1 1 -1 -1 1 -1 1 1 1 -1;\n",
        "1 1 1 1 1 -1 -1 -1 1 -1 -1 -1 -1 1 -1 1 -1 -1 1 -1 1 1 1 -1 -1;\n",
        "-1 1 1 1 1 1 -1 -1 -1 -1 1 -1 -1 -1 -1 1 -1 -1 -1 -1 -1 1 1 1 1;\n",
        "1 -1 -1 -1 1 1 1 -1 1 1 1 -1 1 -1 1 1 -1 -1 -1 1 1 -1 -1 -1 1]';\n",
        "\n",
        "%figure;\n",
        "%imshow(reshape(-X(:,1),5,5)');\n",
        "\n",
        "%--------------------------------------------\n",
        "% Learn the weights according to Hebb's rule\n",
        "%--------------------------------------------\n",
        "[m,n] = size(X);\n",
        "W = zeros(m,m);\n",
        "for i = 1:n\n",
        "\tW = W + X(:,i)*X(:,i)';\n",
        "end\n",
        "W(logical(eye(size(W)))) = 0;\n",
        "W = W/n;\n",
        "\n",
        "%-------------------------------------------\n",
        "% Dynamical (Linear) System and fixed points\n",
        "%-------------------------------------------\n",
        "x = X(:,1);\n",
        "x(5)=-1*x(5);\n",
        "\n",
        "figure(1);\n",
        "subplot(1,2,1);\n",
        "imshow(reshape(-X(:,1),5,5)');\n",
        "subplot(1,2,2);\n",
        "imshow(reshape(-x,5,5)');\n",
        "\n",
        "y = x;\n",
        "erry = 10;\n",
        "while erry > 1\n",
        "\typ = sign(W*y);\n",
        "\terry = norm(yp-y);\n",
        "\ty = yp;\n",
        "\tfigure(2);\n",
        "\timshow(reshape(-y, 5, 5)');\n",
        "\tpause();\n",
        "end\n",
        "\n",
        "%--------------------------------------------\n",
        "% Damaging 50 neurons!\n",
        "%--------------------------------------------\n",
        "\n",
        "% Error tolerance check\n",
        "% Error tolerance check\n",
        "num_bits = size(X, 1);\n",
        "num_runs = 1;\n",
        "total_flips = zeros(1, n); % Store total flips for each pattern\n",
        "for run = 1:num_runs\n",
        "   for i = 1:n\n",
        "       pattern = X(:,i);\n",
        "       for num_flips = 1:num_bits\t% numbits[25]\n",
        "           distorted_pattern = pattern;\n",
        "           flip_indices = randperm(num_bits, num_flips);\n",
        "   distorted_pattern(flip_indices) = -distorted_pattern(flip_indices);\n",
        "           y = distorted_pattern;\n",
        "           erry = 10;\n",
        "           count=0;\n",
        "           while erry > 1\n",
        "               yp = sign(W*y);  % Stable State Computation[Convergence]\n",
        "               erry = norm(yp-y);\n",
        "               y = yp;\n",
        "               count=count+1;\n",
        "               if count>10\n",
        "                   break;\n",
        "               end\n",
        "           end\n",
        "           if ~isequal(y, pattern)\n",
        "               total_flips(i) = total_flips(i) + num_flips - 1;\n",
        "               break\n",
        "           end\n",
        "       end\n",
        "   end\n",
        "end\n",
        "average_flips = total_flips / num_runs;\n",
        "disp('Average error tolerance bits for each pattern:');\n",
        "disp(average_flips);"
      ],
      "metadata": {
        "id": "dqHcH_-YUlW9"
      },
      "execution_count": null,
      "outputs": []
    },
    {
      "cell_type": "markdown",
      "source": [
        "Q4) Setup the energy function for the Eight-rook problem and solve the same using Hopfield network. Give reasons for choosing specific weights for the network."
      ],
      "metadata": {
        "id": "fDQ-AjtTWHYz"
      }
    },
    {
      "cell_type": "code",
      "source": [
        "import numpy as np\n",
        "import matplotlib.pyplot as plt\n",
        "\n",
        "# We generate initial state randomly.\n",
        "\n",
        "\n",
        "def generate_initial_state(initial_state):\n",
        "  unique=[]\n",
        "  i=0\n",
        "  while(i<8):\n",
        "    pos = np.random.randint(low=0, high=64)\n",
        "    if pos not in unique:\n",
        "      unique.append(pos)\n",
        "      i+=1\n",
        "    else:\n",
        "      continue\n",
        "\n",
        "\n",
        "  for x in unique:\n",
        "    initial_state[x//8][x%8] = 1\n",
        "\n",
        "\n",
        "# Calculate the energy for state.\n",
        "def energy(x):\n",
        "  E1=0\n",
        "  E2=0\n",
        "  for j in range(8):\n",
        "    sum=0\n",
        "    for i in range(8):\n",
        "      sum+=x[i][j]\n",
        "    sum-=1\n",
        "    E1+=sum**2\n",
        "\n",
        "\n",
        "  for i in range(8):\n",
        "    sum=0\n",
        "    for j in range(8):\n",
        "      sum+=x[i][j]\n",
        "    sum-=1\n",
        "    E2+=sum**2\n",
        "  return E1+E2\n",
        "\n",
        "\n",
        "# We try to minimize the E1+E2 by flipping the position where rook is present in current state and another position where rook is not present.\n",
        "def flip(curr_energy, x):\n",
        "    while True:\n",
        "        pos1 = np.random.randint(low=0, high=64)\n",
        "        pos2 = np.random.randint(low=0, high=64)\n",
        "        if x[pos1 // 8][pos1 % 8] != 1 and x[pos2 // 8][pos2 % 8] != 0:\n",
        "            continue\n",
        "        if x[pos1 // 8][pos1 % 8] == 1 and x[pos2 // 8][pos2 % 8] == 0:\n",
        "            x[pos1 // 8][pos1 % 8] = 0\n",
        "            x[pos2 // 8][pos2 % 8] = 1\n",
        "            new_energy = energy(x)\n",
        "            if curr_energy > new_energy:  # Check if new energy is lower\n",
        "                curr_energy = new_energy  # Update current energy\n",
        "            else:  # Revert the changes if energy doesn't decrease\n",
        "                x[pos1 // 8][pos1 % 8] = 1\n",
        "                x[pos2 // 8][pos2 % 8] = 0\n",
        "            break\n",
        "    return curr_energy\n",
        "initial_state = np.zeros((8,8))\n",
        "generate_initial_state(initial_state)\n",
        "\n",
        "\n",
        "plt.imshow(initial_state, cmap='binary', interpolation='nearest')"
      ],
      "metadata": {
        "colab": {
          "base_uri": "https://localhost:8080/",
          "height": 447
        },
        "id": "KlNScRElV-n_",
        "outputId": "8303d34c-a1aa-47f4-e4db-3f385e57acbe"
      },
      "execution_count": 3,
      "outputs": [
        {
          "output_type": "execute_result",
          "data": {
            "text/plain": [
              "<matplotlib.image.AxesImage at 0x7c095676aef0>"
            ]
          },
          "metadata": {},
          "execution_count": 3
        },
        {
          "output_type": "display_data",
          "data": {
            "text/plain": [
              "<Figure size 640x480 with 1 Axes>"
            ],
            "image/png": "[encoded data removed]"
          },
          "metadata": {}
        }
      ]
    },
    {
      "cell_type": "code",
      "source": [
        "curr_energy = energy(initial_state)\n",
        "print(\"Energy of initial state: \",curr_energy)"
      ],
      "metadata": {
        "colab": {
          "base_uri": "https://localhost:8080/"
        },
        "id": "npwFiyqMWXyN",
        "outputId": "2e00c5e5-de5f-4470-ed2a-fa90fc5bf19b"
      },
      "execution_count": 4,
      "outputs": [
        {
          "output_type": "stream",
          "name": "stdout",
          "text": [
            "Energy of initial state:  16.0\n"
          ]
        }
      ]
    },
    {
      "cell_type": "code",
      "source": [
        "iterations = 1000\n",
        "x = initial_state\n",
        "for i in range(iterations):\n",
        "    curr_energy = flip(curr_energy, x)\n",
        "    # print(\"Energy in \" ,i, \"iteration: \",curr_energy)\n",
        "plt.imshow(initial_state, cmap='binary', interpolation='nearest')"
      ],
      "metadata": {
        "colab": {
          "base_uri": "https://localhost:8080/",
          "height": 447
        },
        "id": "i9p7CL5sWdQq",
        "outputId": "2bdb473b-bcb7-4ff6-cd6e-9e797b47262c"
      },
      "execution_count": 5,
      "outputs": [
        {
          "output_type": "execute_result",
          "data": {
            "text/plain": [
              "<matplotlib.image.AxesImage at 0x7c09568b1c30>"
            ]
          },
          "metadata": {},
          "execution_count": 5
        },
        {
          "output_type": "display_data",
          "data": {
            "text/plain": [
              "<Figure size 640x480 with 1 Axes>"
            ],
            "image/png": "[encoded data removed]"
          },
          "metadata": {}
        }
      ]
    },
    {
      "cell_type": "markdown",
      "source": [
        "Q5) Solve a TSP (traveling salesman problem) of 10 cities with a Hopfield network. How many weights do you need for the network?"
      ],
      "metadata": {
        "id": "cxY8JNpRWguj"
      }
    },
    {
      "cell_type": "code",
      "source": [
        "import numpy as np\n",
        "import matplotlib.pyplot as plt\n",
        "\n",
        "\n",
        "# Define the cities with random coordinates\n",
        "city_names = {'1', '2', '3', '4', '5', '6', '7', '8', '9', '10'}\n",
        "\n",
        "\n",
        "# Generate random coordinates for each city\n",
        "np.random.seed(0)  # for reproducibility\n",
        "city_coordinates = {city: np.random.rand(2) * 50 for city in city_names}\n",
        "\n",
        "\n",
        "# Calculate distances between cities based on coordinates\n",
        "def calculate_distances(city_names):\n",
        "    num_cities = len(city_names)\n",
        "    distances = np.zeros((num_cities, num_cities))\n",
        "    for i, city_i in enumerate(city_names):\n",
        "        for j, city_j in enumerate(city_names):\n",
        "            if i != j:\n",
        "                distances[i][j] = np.sqrt(np.sum((city_coordinates[city_i] - city_coordinates[city_j]) ** 2))\n",
        "    return distances\n",
        "\n",
        "\n",
        "# Define the TSP solver\n",
        "class TSPSolver:\n",
        "    def __init__(self, city_names, distances):\n",
        "        self.city_names = city_names\n",
        "        self.num_cities = len(city_names)\n",
        "        self.distances = distances\n",
        "        self.weights = np.zeros((self.num_cities, self.num_cities))\n",
        "        self.initialize_weights()\n",
        "\n",
        "\n",
        "    def initialize_weights(self):\n",
        "        for i in range(self.num_cities):\n",
        "            for j in range(self.num_cities):\n",
        "                if i != j:\n",
        "                    self.weights[i][j] = -self.distances[i][j]\n",
        "\n",
        "\n",
        "    def energy(self, tour):\n",
        "        total_distance = 0\n",
        "        for i in range(self.num_cities - 1):\n",
        "            total_distance += self.distances[tour[i]][tour[i+1]]\n",
        "        total_distance += self.distances[tour[-1]][tour[0]]  # Return to the starting city\n",
        "        return total_distance\n",
        "\n",
        "\n",
        "    def solve(self, iterations=100000):\n",
        "        min_path_cost = float('inf')\n",
        "        min_path_tour = None\n",
        "        tour = np.random.permutation(self.num_cities)\n",
        "        for iteration in range(iterations):\n",
        "            i, j = np.random.choice(self.num_cities, 2, replace=False)\n",
        "            delta_energy = 2 * (\n",
        "                self.weights[i].dot(tour) * tour[i] +\n",
        "                self.weights[j].dot(tour) * tour[j]\n",
        "            )\n",
        "            if delta_energy < 0:\n",
        "                tour[i], tour[j] = tour[j], tour[i]\n",
        "            path_cost = self.energy(tour)\n",
        "            if path_cost < min_path_cost:\n",
        "                min_path_cost = path_cost\n",
        "                min_path_tour = tour.copy()\n",
        "        return min_path_tour, min_path_cost\n",
        "\n",
        "\n",
        "# Calculate distances\n",
        "distances = calculate_distances(city_names)\n",
        "\n",
        "\n",
        "# Create TSP solver instance\n",
        "tsp_solver = TSPSolver(list(city_names), distances)\n",
        "\n",
        "\n",
        "# Solve TSP\n",
        "optimal_tour, min_path_cost = tsp_solver.solve()\n",
        "\n",
        "\n",
        "# Display the solution\n",
        "print(\"Optimal Tour:\")\n",
        "for i, city_index in enumerate(optimal_tour):\n",
        "    if i == 0:\n",
        "        print(f\"Start from {list(city_names)[city_index]}\")\n",
        "    else:\n",
        "        print(f\"Go to {list(city_names)[city_index]}\")\n",
        "print(f\"Return to {list(city_names)[optimal_tour[0]]}\")\n",
        "\n",
        "\n",
        "# Display the minimum path cost\n",
        "print(\"Minimum Path Cost:\", min_path_cost)\n",
        "\n",
        "\n",
        "# Plot the cities and the tour corresponding to the minimum path cost\n",
        "plt.figure(figsize=(10, 8))\n",
        "for city in city_names:\n",
        "    plt.scatter(city_coordinates[city][0], city_coordinates[city][1], color='green')\n",
        "    plt.text(city_coordinates[city][0], city_coordinates[city][1], city, ha='center', va='center', fontsize=12)\n",
        "for i in range(len(optimal_tour) - 1):\n",
        "    plt.plot([city_coordinates[list(city_names)[optimal_tour[i]]][0], city_coordinates[list(city_names)[optimal_tour[i+1]]][0]],\n",
        "             [city_coordinates[list(city_names)[optimal_tour[i]]][1], city_coordinates[list(city_names)[optimal_tour[i+1]]][1]],\n",
        "             color='blue')\n",
        "plt.plot([city_coordinates[list(city_names)[optimal_tour[-1]]][0], city_coordinates[list(city_names)[optimal_tour[0]]][0]],\n",
        "         [city_coordinates[list(city_names)[optimal_tour[-1]]][1], city_coordinates[list(city_names)[optimal_tour[0]]][1]],\n",
        "         color='blue')\n",
        "\n",
        "\n",
        "# Annotate each path cost along with the path\n",
        "for i in range(len(optimal_tour) - 1):\n",
        "    x = (city_coordinates[list(city_names)[optimal_tour[i]]][0] + city_coordinates[list(city_names)[optimal_tour[i+1]]][0]) / 2\n",
        "    y = (city_coordinates[list(city_names)[optimal_tour[i]]][1] + city_coordinates[list(city_names)[optimal_tour[i+1]]][1]) / 2\n",
        "    plt.text(x, y, f'{distances[optimal_tour[i], optimal_tour[i+1]]:.2f}', color='red')\n",
        "\n",
        "\n",
        "plt.title(\"Traveling Salesman Problem (TSP)\")\n",
        "plt.xlabel(\"X-Axis\")\n",
        "plt.ylabel(\"Y-Axis\")\n",
        "plt.grid(True)\n",
        "plt.show()\n"
      ],
      "metadata": {
        "colab": {
          "base_uri": "https://localhost:8080/",
          "height": 944
        },
        "id": "CzhH9xGfWnCt",
        "outputId": "38961ad0-cef1-4fd4-f978-46189b961146"
      },
      "execution_count": 6,
      "outputs": [
        {
          "output_type": "stream",
          "name": "stdout",
          "text": [
            "Optimal Tour:\n",
            "Start from 4\n",
            "Go to 7\n",
            "Go to 10\n",
            "Go to 6\n",
            "Go to 2\n",
            "Go to 9\n",
            "Go to 1\n",
            "Go to 8\n",
            "Go to 5\n",
            "Go to 3\n",
            "Return to 4\n",
            "Minimum Path Cost: 171.94425063343226\n"
          ]
        },
        {
          "output_type": "display_data",
          "data": {
            "text/plain": [
              "<Figure size 1000x800 with 1 Axes>"
            ],
            "image/png": "[encoded data removed]"
          },
          "metadata": {}
        }
      ]
    }
  ]
}